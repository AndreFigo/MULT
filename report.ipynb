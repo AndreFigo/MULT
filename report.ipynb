{
 "cells": [
  {
   "cell_type": "code",
   "execution_count": null,
   "metadata": {},
   "outputs": [],
   "source": [
    "import matplotlib.pyplot as plt\n",
    "images= ['barn_mountains','logo','peppers']\n",
    "qualities = [75,50,25]\n",
    "from PIL import Image\n",
    "for s in images:\n",
    "    img = Image.open(f\"imagens/{s}.bmp\")\n",
    "    rgb_img = img.convert('RGB')\n",
    "    for q in qualities:\n",
    "        rgb_img.save(f\"ex1/{s}_{q}.jpeg\", quality=q)\n",
    "        im2 = Image.open(f\"ex1/{s}_{q}.jpeg\")\n",
    "        plt.figure()\n",
    "        plt.title(f'{s}_{q}.jpeg')\n",
    "        plt.imshow(im2)\n"
   ]
  },
  {
   "cell_type": "markdown",
   "metadata": {},
   "source": [
    "# Results\n"
   ]
  },
  {
   "cell_type": "code",
   "execution_count": null,
   "metadata": {},
   "outputs": [],
   "source": [
    "def encoder():\n",
    "    pass\n",
    "\n",
    "def decoder():\n",
    "    pass"
   ]
  },
  {
   "cell_type": "code",
   "execution_count": null,
   "metadata": {},
   "outputs": [],
   "source": []
  }
 ],
 "metadata": {
  "interpreter": {
   "hash": "53fe994da9928c589db9346bb0da5bd4430a2041bed8bbb30e3051e1061cfa89"
  },
  "kernelspec": {
   "display_name": "Python 3.9.10 64-bit (windows store)",
   "language": "python",
   "name": "python3"
  },
  "language_info": {
   "codemirror_mode": {
    "name": "ipython",
    "version": 3
   },
   "file_extension": ".py",
   "mimetype": "text/x-python",
   "name": "python",
   "nbconvert_exporter": "python",
   "pygments_lexer": "ipython3",
   "version": "3.8.2"
  },
  "orig_nbformat": 4
 },
 "nbformat": 4,
 "nbformat_minor": 2
}
